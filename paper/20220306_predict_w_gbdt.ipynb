{
 "cells": [
  {
   "cell_type": "code",
   "execution_count": 11,
   "metadata": {},
   "outputs": [],
   "source": [
    "%load_ext autoreload\n",
    "%autoreload 2"
   ]
  },
  {
   "cell_type": "code",
   "execution_count": 12,
   "metadata": {},
   "outputs": [],
   "source": [
    "from aeml.models.gbdt.run import run_model\n",
    "from aeml.models.gbdt.settings import *\n",
    "from aeml.models.gbdt.plot import make_forecast_plot\n",
    "from aeml.utils.io import dump_pickle"
   ]
  },
  {
   "cell_type": "code",
   "execution_count": 13,
   "metadata": {},
   "outputs": [],
   "source": [
    "from darts import TimeSeries\n",
    "import pandas as pd\n",
    "import matplotlib.pyplot as plt\n",
    "from darts.dataprocessing.transformers import Scaler\n",
    "\n",
    "MEAS_COLUMNS = [\n",
    "    \"TI-19\",\n",
    "    #      \"FI-16\",\n",
    "    #     \"TI-33\",\n",
    "    #     \"FI-2\",\n",
    "    #     \"FI-151\",\n",
    "    #     \"TI-8\",\n",
    "    #     \"FI-241\",\n",
    "    #  \"valve-position-12\",  # dry-bed\n",
    "    #     \"FI-38\",  # strippera\n",
    "    #     \"PI-28\",  # stripper\n",
    "    #     \"TI-28\",  # stripper\n",
    "    #      \"FI-20\",\n",
    "    #     \"FI-30\",\n",
    "    \"TI-3\",\n",
    "    \"FI-19\",\n",
    "    #     \"FI-211\",\n",
    "    \"FI-11\",\n",
    "    #     \"TI-30\",\n",
    "    #     \"PI-30\",\n",
    "    \"TI-1213\",\n",
    "    #     \"TI-4\",\n",
    "    #    \"FI-23\",\n",
    "    #    \"FI-20\",\n",
    "    #   \"FI-20/FI-23\",\n",
    "    #    \"TI-22\",\n",
    "    #\"delta_t\",\n",
    "    \"TI-35\",\n",
    "    #     \"delta_t_2\"\n",
    "]\n",
    "\n",
    "TARGETS_clean = ['2-Amino-2-methylpropanol C4H11NO', 'Piperazine C4H10N2', \n",
    "                 \"Carbon dioxide CO2\", \"Ammonia NH3\"]\n",
    "\n"
   ]
  },
  {
   "cell_type": "code",
   "execution_count": 14,
   "metadata": {},
   "outputs": [],
   "source": [
    "import time\n",
    "timestr = time.strftime(\"%Y%m%d-%H%M%S\") + '_6_filtered'"
   ]
  },
  {
   "cell_type": "code",
   "execution_count": 15,
   "metadata": {},
   "outputs": [],
   "source": [
    "from aeml.preprocessing.transform import transform_data\n",
    "from aeml.preprocessing.resample import resample_regular"
   ]
  },
  {
   "cell_type": "code",
   "execution_count": 16,
   "metadata": {},
   "outputs": [],
   "source": [
    "import matplotlib.pyplot as plt\n",
    "plt.style.reload_library()\n",
    "plt.style.use('science')\n",
    "from matplotlib import rcParams\n",
    "rcParams['font.family'] = 'sans-serif'\n",
    "import datetime as dt\n",
    "import numpy as np"
   ]
  },
  {
   "cell_type": "code",
   "execution_count": 17,
   "metadata": {},
   "outputs": [],
   "source": [
    "df = pd.read_pickle('20220210_smooth_window_16.pkl')"
   ]
  },
  {
   "cell_type": "code",
   "execution_count": 18,
   "metadata": {},
   "outputs": [],
   "source": [
    "TARGETS_clean = ['2-Amino-2-methylpropanol C4H11NO', 'Piperazine C4H10N2']"
   ]
  },
  {
   "cell_type": "code",
   "execution_count": 19,
   "metadata": {},
   "outputs": [],
   "source": [
    "def choose_index(series, fraction):\n",
    "    timestamps = series.time_index\n",
    "    fraction_index = int(len(timestamps) * fraction)\n",
    "\n",
    "    return timestamps[fraction_index]\n",
    "\n",
    "\n",
    "def split_data(x, y, targets, fraction_train, fraction_test=0.5):\n",
    "    ts = choose_index(x, fraction_train)\n",
    "    x_before, x_after = x.split_before(ts)\n",
    "    y_before, y_after = y.split_before(ts)\n",
    "\n",
    "    ts_2 = choose_index(x_after, fraction_test)\n",
    "\n",
    "    print(ts_2)\n",
    "    x_valid, x_test = x_after.split_before(ts_2)\n",
    "    y_valid, y_test = y_after.split_before(ts_2)\n",
    "\n",
    "    return (\n",
    "        (x_before, y_before[targets]),\n",
    "        (x_valid, y_valid[targets]),\n",
    "        (x_test, y_test[targets]),\n",
    "        ts, ts_2\n",
    "    )\n"
   ]
  },
  {
   "cell_type": "code",
   "execution_count": 23,
   "metadata": {},
   "outputs": [],
   "source": [
    "def get_data(num_outputs, targets):\n",
    "    train, valid, test, ts, ts_2 = split_data(X, Y, targets, 0.5)\n",
    "    return (train, valid, test, ts, ts_2)\n"
   ]
  },
  {
   "cell_type": "code",
   "execution_count": 63,
   "metadata": {},
   "outputs": [
    {
     "name": "stderr",
     "output_type": "stream",
     "text": [
      "2022-03-11 10:10:44.560 | INFO     | aeml.models.gbdt.gbmquantile:fit:17 - fitting model lower percentile\n"
     ]
    },
    {
     "name": "stdout",
     "output_type": "stream",
     "text": [
      "2010-01-06 15:12:00\n",
      "[LightGBM] [Warning] bagging_freq is set=4, subsample_freq=0 will be ignored. Current value: bagging_freq=4\n",
      "[LightGBM] [Warning] bagging_fraction is set=0.9886355937008238, subsample=1.0 will be ignored. Current value: bagging_fraction=0.9886355937008238\n"
     ]
    },
    {
     "name": "stderr",
     "output_type": "stream",
     "text": [
      "/home/kjablonk/anaconda3/envs/aeml/lib/python3.8/site-packages/darts/timeseries.py:3283: FutureWarning: pandas.Int64Index is deprecated and will be removed from pandas in a future version. Use pandas.Index with the appropriate dtype instead.\n",
      "  if isinstance(time_idx, pd.Int64Index) and not isinstance(\n",
      "2022-03-11 10:11:35.165 | INFO     | aeml.models.gbdt.gbmquantile:fit:17 - fitting model middle percentile\n",
      "/home/kjablonk/anaconda3/envs/aeml/lib/python3.8/site-packages/darts/timeseries.py:3283: FutureWarning: pandas.Int64Index is deprecated and will be removed from pandas in a future version. Use pandas.Index with the appropriate dtype instead.\n",
      "  if isinstance(time_idx, pd.Int64Index) and not isinstance(\n",
      "2022-03-11 10:12:28.540 | INFO     | aeml.models.gbdt.gbmquantile:fit:17 - fitting model upper percentile\n",
      "/home/kjablonk/anaconda3/envs/aeml/lib/python3.8/site-packages/darts/timeseries.py:3283: FutureWarning: pandas.Int64Index is deprecated and will be removed from pandas in a future version. Use pandas.Index with the appropriate dtype instead.\n",
      "  if isinstance(time_idx, pd.Int64Index) and not isinstance(\n"
     ]
    }
   ],
   "source": [
    "step = 30\n",
    "target = 0\n",
    "\n",
    "\n",
    "quantiles = (0.1, 0.5, 0.9)\n",
    "\n",
    "Y = TimeSeries.from_dataframe(df, value_cols=TARGETS_clean)\n",
    "X = TimeSeries.from_dataframe(df, value_cols=MEAS_COLUMNS)\n",
    "train, valid, test, ts, ts_2 = get_data(1, [TARGETS_clean[target]])\n",
    "\n",
    "\n",
    "x_scaler = Scaler(name='x')\n",
    "y_scaler = Scaler(name='y')\n",
    "\n",
    "x_train = x_scaler.fit_transform(train[0])\n",
    "x_valid = x_scaler.transform(valid[0])\n",
    "x_test = x_scaler.transform(test[0])\n",
    "\n",
    "y_train= y_scaler.fit_transform(train[1])\n",
    "y_valid = y_scaler.transform(valid[1])\n",
    "y_test = y_scaler.transform(test[1])\n",
    "\n",
    "\n",
    "x_connected = TimeSeries.from_dataframe(pd.concat([x_train.pd_dataframe(), x_valid.pd_dataframe(), x_test.pd_dataframe()]))\n",
    "\n",
    "y_connected = TimeSeries.from_dataframe(pd.concat([y_train.pd_dataframe(), y_valid.pd_dataframe(), y_test.pd_dataframe()]))\n",
    "\n",
    "\n",
    "\n",
    "model = run_model(x_train, y_train, quantiles=quantiles, **settings_30_0, output_chunk_length=step)"
   ]
  },
  {
   "cell_type": "code",
   "execution_count": 64,
   "metadata": {},
   "outputs": [],
   "source": [
    "forecasts = model.historical_forecasts(series=y_connected, past_covariates=x_connected, retrain=False, start=0.2, forecast_horizon=step)"
   ]
  },
  {
   "cell_type": "code",
   "execution_count": 65,
   "metadata": {},
   "outputs": [],
   "source": [
    "dump_pickle(f'{timestr}-{step}-step-target-{target}-forecasts_quantiles_{quantiles[0]}_{quantiles[-1]}.pkl', forecasts)"
   ]
  },
  {
   "cell_type": "code",
   "execution_count": 66,
   "metadata": {},
   "outputs": [
    {
     "data": {
      "image/png": "[encoded data removed]",
      "text/plain": [
       "<Figure size 504x216 with 1 Axes>"
      ]
     },
     "metadata": {
      "needs_background": "light"
     },
     "output_type": "display_data"
    }
   ],
   "source": [
    "make_forecast_plot(y_connected, forecasts[0].pd_dataframe(), forecasts[1].pd_dataframe(), forecasts[2].pd_dataframe(), target=target, outname=f'{timestr}-{step}-step-target-{target}_quantiles_{quantiles[0]}_{quantiles[-1]}.pdf')"
   ]
  },
  {
   "cell_type": "code",
   "execution_count": 61,
   "metadata": {},
   "outputs": [
    {
     "data": {
      "text/plain": [
       "'Piperazine C4H10N2'"
      ]
     },
     "execution_count": 61,
     "metadata": {},
     "output_type": "execute_result"
    }
   ],
   "source": [
    "TARGETS_clean[target]"
   ]
  },
  {
   "cell_type": "code",
   "execution_count": 62,
   "metadata": {},
   "outputs": [
    {
     "data": {
      "image/png": "[encoded data removed]",
      "text/plain": [
       "<Figure size 252x189 with 1 Axes>"
      ]
     },
     "metadata": {
      "needs_background": "light"
     },
     "output_type": "display_data"
    }
   ],
   "source": [
    "y_connected[TARGETS_clean[target]].plot()"
   ]
  },
  {
   "cell_type": "code",
   "execution_count": null,
   "metadata": {},
   "outputs": [],
   "source": []
  }
 ],
 "metadata": {
  "interpreter": {
   "hash": "ffaf8fb1d943ea3037f4a4fdf1b01b66ee672aa3b35a840f4a4d996ec833da06"
  },
  "kernelspec": {
   "display_name": "Python 3.8.12 ('aeml')",
   "language": "python",
   "name": "python3"
  },
  "language_info": {
   "codemirror_mode": {
    "name": "ipython",
    "version": 3
   },
   "file_extension": ".py",
   "mimetype": "text/x-python",
   "name": "python",
   "nbconvert_exporter": "python",
   "pygments_lexer": "ipython3",
   "version": "3.8.12"
  },
  "orig_nbformat": 4
 },
 "nbformat": 4,
 "nbformat_minor": 2
}
