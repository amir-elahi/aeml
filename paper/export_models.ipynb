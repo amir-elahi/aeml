{
 "cells": [
  {
   "cell_type": "code",
   "execution_count": 2,
   "metadata": {},
   "outputs": [],
   "source": [
    "import sys\n",
    "sys.path.append('../')"
   ]
  },
  {
   "cell_type": "code",
   "execution_count": 3,
   "metadata": {},
   "outputs": [
    {
     "name": "stderr",
     "output_type": "stream",
     "text": [
      "/home/kjablonk/anaconda3/envs/aeml/lib/python3.8/site-packages/darts/timeseries.py:39: FutureWarning: pandas.Int64Index is deprecated and will be removed from pandas in a future version. Use pandas.Index with the appropriate dtype instead.\n",
      "  VALID_INDEX_TYPES = (pd.DatetimeIndex, pd.RangeIndex, pd.Int64Index)\n",
      "/home/kjablonk/anaconda3/envs/aeml/lib/python3.8/site-packages/darts/timeseries.py:512: FutureWarning: pandas.Int64Index is deprecated and will be removed from pandas in a future version. Use pandas.Index with the appropriate dtype instead.\n",
      "  times: Union[pd.DatetimeIndex, pd.Int64Index],\n",
      "/home/kjablonk/anaconda3/envs/aeml/lib/python3.8/site-packages/darts/timeseries.py:738: FutureWarning: pandas.Int64Index is deprecated and will be removed from pandas in a future version. Use pandas.Index with the appropriate dtype instead.\n",
      "  def time_index(self) -> Union[pd.DatetimeIndex, pd.Int64Index]:\n",
      "/home/kjablonk/anaconda3/envs/aeml/lib/python3.8/site-packages/darts/timeseries.py:2947: FutureWarning: pandas.Int64Index is deprecated and will be removed from pandas in a future version. Use pandas.Index with the appropriate dtype instead.\n",
      "  pd.Int64Index,\n",
      "/home/kjablonk/anaconda3/envs/aeml/lib/python3.8/site-packages/darts/utils/timeseries_generation.py:25: FutureWarning: pandas.Int64Index is deprecated and will be removed from pandas in a future version. Use pandas.Index with the appropriate dtype instead.\n",
      "  ) -> Union[pd.DatetimeIndex, pd.Int64Index]:\n",
      "[2022-03-03 13:25:56,782] WARNING | darts.models | Support for AutoARIMA is not available.To enable it, install u8darts[pmdarima] or u8darts[all].\n",
      "[2022-03-03 13:25:56,783] WARNING | darts.models | Support for Facebook Prophet is not available. To enable it, install \"darts\", \"u8darts[prophet]\" or \"u8darts[all]\" (with pip);or \"u8darts-all\" (with conda).\n",
      "/home/kjablonk/anaconda3/envs/aeml/lib/python3.8/site-packages/darts/utils/data/encoder_base.py:19: FutureWarning: pandas.Int64Index is deprecated and will be removed from pandas in a future version. Use pandas.Index with the appropriate dtype instead.\n",
      "  SupportedIndex = Union[pd.DatetimeIndex, pd.Int64Index, pd.RangeIndex]\n"
     ]
    }
   ],
   "source": [
    "from aeml.models.tcn_dropout import TCNDropout"
   ]
  },
  {
   "cell_type": "code",
   "execution_count": 4,
   "metadata": {},
   "outputs": [],
   "source": [
    "import joblib"
   ]
  },
  {
   "cell_type": "code",
   "execution_count": 5,
   "metadata": {},
   "outputs": [],
   "source": [
    "TARGETS_clean = [\n",
    "    \"2-Amino-2-methylpropanol C4H11NO\",\n",
    "    \"Piperazine C4H10N2\",\n",
    "]  # ['Piperazine C4H10N2'] #'2-Amino-2-methylpropanol C4H11NO',\n"
   ]
  },
  {
   "cell_type": "code",
   "execution_count": 6,
   "metadata": {},
   "outputs": [],
   "source": [
    "m = joblib.load(f'/home/kjablonk/documents/aeml/scratch/20220303-114151_2-Amino-2-methylpropanol C4H11NO_model_reduced_feature_set')\n",
    "#m2 = joblib.load('20220119_Piperazine C4H10N2_model')\n",
    "#m3 = joblib.load('20220119_Carbon dioxide CO2_model')\n",
    "#m4 = joblib.load('20220120_Ammonia NH3_model')"
   ]
  },
  {
   "cell_type": "code",
   "execution_count": 7,
   "metadata": {},
   "outputs": [],
   "source": [
    "m.save_model(f'/home/kjablonk/documents/aeml/scratch/20220303-114151_2-Amino-2-methylpropanol C4H11NO_model_reduced_feature_set.pth.tar')"
   ]
  },
  {
   "cell_type": "code",
   "execution_count": 15,
   "metadata": {},
   "outputs": [
    {
     "name": "stderr",
     "output_type": "stream",
     "text": [
      "/home/kjablonk/anaconda3/envs/timeseries_analysis/lib/python3.8/site-packages/torch/random.py:95: UserWarning: CUDA reports that you have 2 available devices, and you have used fork_rng without explicitly specifying which devices are being used. For safety, we initialize *every* CUDA device by default, which can be quite slow if you have a lot of GPUs.  If you know that you are only making use of a few CUDA devices, set the environment variable CUDA_VISIBLE_DEVICES or the 'devices' keyword argument of fork_rng with the set of devices you are actually using.  For example, if you are using CPU only, set CUDA_VISIBLE_DEVICES= or devices=[]; if you are using GPU 0 only, set CUDA_VISIBLE_DEVICES=0 or devices=[0].  To initialize all devices and suppress this warning, set the 'devices' keyword argument to `range(torch.cuda.device_count())`.\n",
      "  warnings.warn(\n"
     ]
    }
   ],
   "source": [
    "model_cov = TCNModelDropout(\n",
    "    input_chunk_length=8,\n",
    "    output_chunk_length=1,\n",
    "    num_layers=5,\n",
    "    num_filters=16,\n",
    "    kernel_size=6,\n",
    "    dropout=0.3,\n",
    "    weight_norm=True,\n",
    "    batch_size=32,\n",
    "    n_epochs=100,\n",
    "    log_tensorboard=True,\n",
    "    optimizer_kwargs={\"lr\": 2e-4},\n",
    ")"
   ]
  },
  {
   "cell_type": "markdown",
   "metadata": {},
   "source": []
  },
  {
   "cell_type": "code",
   "execution_count": 17,
   "metadata": {},
   "outputs": [
    {
     "data": {
      "text/plain": [
       "<pyprocessta.model.tcn.TCNModelDropout at 0x7f77c3339d90>"
      ]
     },
     "execution_count": 17,
     "metadata": {},
     "output_type": "execute_result"
    }
   ],
   "source": [
    "model_cov.load_model('20220116_Ammonia_model_darts.pth.tar')"
   ]
  },
  {
   "cell_type": "code",
   "execution_count": 168,
   "metadata": {},
   "outputs": [],
   "source": [
    "model_cov = model_cov.load_from_checkpoint('/home/kjablonk/documents/timeseries_analysis/pyprocessta/examples/20210814_2_amp_pip_model_reduced_feature_set_darts')"
   ]
  },
  {
   "cell_type": "code",
   "execution_count": 163,
   "metadata": {},
   "outputs": [],
   "source": [
    "scaler = joblib.load('20210814_2_x_scaler_reduced_feature_set')"
   ]
  },
  {
   "cell_type": "code",
   "execution_count": 164,
   "metadata": {},
   "outputs": [],
   "source": [
    "import pandas as pd\n",
    "\n",
    "from darts import TimeSeries\n",
    "\n",
    "df = pd.read_pickle(\"20210508_df_cleaned.pkl\")\n",
    "\n",
    "MEAS_COLUMNS = [\n",
    "    \"TI-19\",\n",
    "#      \"FI-16\",\n",
    "#     \"TI-33\",\n",
    "#     \"FI-2\",\n",
    "#     \"FI-151\",\n",
    "#     \"TI-8\",\n",
    "#     \"FI-241\",\n",
    "#  \"valve-position-12\",  # dry-bed\n",
    "#     \"FI-38\",  # strippera\n",
    "#     \"PI-28\",  # stripper\n",
    "    \n",
    "#     \"TI-28\",  # stripper\n",
    "#      \"FI-20\",\n",
    "#     \"FI-30\",\n",
    "    \"TI-3\",\n",
    "    \"FI-19\",\n",
    "#     \"FI-211\",\n",
    "    \"FI-11\",\n",
    "#     \"TI-30\",\n",
    "#     \"PI-30\",\n",
    "    \"TI-1213\",\n",
    "#     \"TI-4\",\n",
    "#    \"FI-23\",\n",
    "#    \"FI-20\",\n",
    "#   \"FI-20/FI-23\",\n",
    "#    \"TI-22\",\n",
    "#    \"delta_t\",\n",
    "    \"TI-35\",\n",
    "#     \"delta_t_2\"\n",
    "]"
   ]
  },
  {
   "cell_type": "code",
   "execution_count": 165,
   "metadata": {},
   "outputs": [],
   "source": [
    "X_ = TimeSeries.from_dataframe(df, value_cols=MEAS_COLUMNS)"
   ]
  },
  {
   "cell_type": "code",
   "execution_count": 169,
   "metadata": {},
   "outputs": [
    {
     "ename": "ValueError",
     "evalue": "The truth value of a DataFrame is ambiguous. Use a.empty, a.bool(), a.item(), a.any() or a.all().",
     "output_type": "error",
     "traceback": [
      "\u001b[0;31m---------------------------------------------------------------------------\u001b[0m",
      "\u001b[0;31mValueError\u001b[0m                                Traceback (most recent call last)",
      "\u001b[0;32m<ipython-input-169-7dd3b5f02636>\u001b[0m in \u001b[0;36m<module>\u001b[0;34m\u001b[0m\n\u001b[0;32m----> 1\u001b[0;31m \u001b[0mmodel_cov\u001b[0m\u001b[0;34m.\u001b[0m\u001b[0mpredict\u001b[0m\u001b[0;34m(\u001b[0m\u001b[0mscaler\u001b[0m\u001b[0;34m.\u001b[0m\u001b[0mtransform\u001b[0m\u001b[0;34m(\u001b[0m\u001b[0mX_\u001b[0m\u001b[0;34m)\u001b[0m\u001b[0;34m)\u001b[0m\u001b[0;34m\u001b[0m\u001b[0;34m\u001b[0m\u001b[0m\n\u001b[0m",
      "\u001b[0;32m~/anaconda3/envs/timeseries_analysis/lib/python3.8/site-packages/darts/models/torch_forecasting_model.py\u001b[0m in \u001b[0;36mpredict\u001b[0;34m(self, n, series, covariates, batch_size, verbose, n_jobs)\u001b[0m\n\u001b[1;32m    483\u001b[0m \u001b[0;34m\u001b[0m\u001b[0m\n\u001b[1;32m    484\u001b[0m         \u001b[0mdataset\u001b[0m \u001b[0;34m=\u001b[0m \u001b[0mSimpleInferenceDataset\u001b[0m\u001b[0;34m(\u001b[0m\u001b[0mseries\u001b[0m\u001b[0;34m,\u001b[0m \u001b[0mcovariates\u001b[0m\u001b[0;34m)\u001b[0m\u001b[0;34m\u001b[0m\u001b[0;34m\u001b[0m\u001b[0m\n\u001b[0;32m--> 485\u001b[0;31m         \u001b[0mpredictions\u001b[0m \u001b[0;34m=\u001b[0m \u001b[0mself\u001b[0m\u001b[0;34m.\u001b[0m\u001b[0mpredict_from_dataset\u001b[0m\u001b[0;34m(\u001b[0m\u001b[0mn\u001b[0m\u001b[0;34m,\u001b[0m \u001b[0mdataset\u001b[0m\u001b[0;34m,\u001b[0m \u001b[0mverbose\u001b[0m\u001b[0;34m=\u001b[0m\u001b[0mverbose\u001b[0m\u001b[0;34m,\u001b[0m \u001b[0mbatch_size\u001b[0m\u001b[0;34m=\u001b[0m\u001b[0mbatch_size\u001b[0m\u001b[0;34m,\u001b[0m \u001b[0mn_jobs\u001b[0m\u001b[0;34m=\u001b[0m\u001b[0mn_jobs\u001b[0m\u001b[0;34m)\u001b[0m\u001b[0;34m\u001b[0m\u001b[0;34m\u001b[0m\u001b[0m\n\u001b[0m\u001b[1;32m    486\u001b[0m         \u001b[0;32mreturn\u001b[0m \u001b[0mpredictions\u001b[0m\u001b[0;34m[\u001b[0m\u001b[0;36m0\u001b[0m\u001b[0;34m]\u001b[0m \u001b[0;32mif\u001b[0m \u001b[0mcalled_with_single_series\u001b[0m \u001b[0;32melse\u001b[0m \u001b[0mpredictions\u001b[0m\u001b[0;34m\u001b[0m\u001b[0;34m\u001b[0m\u001b[0m\n\u001b[1;32m    487\u001b[0m \u001b[0;34m\u001b[0m\u001b[0m\n",
      "\u001b[0;32m~/documents/timeseries_analysis/pyprocessta/src/pyprocessta/model/tcn.py\u001b[0m in \u001b[0;36mpredict_from_dataset\u001b[0;34m(self, n, input_series_dataset, batch_size, verbose, n_jobs)\u001b[0m\n\u001b[1;32m    238\u001b[0m                 ]  # (batch_size, output_chunk_length, width)\n\u001b[1;32m    239\u001b[0m                 \u001b[0mbatch_prediction\u001b[0m\u001b[0;34m.\u001b[0m\u001b[0mappend\u001b[0m\u001b[0;34m(\u001b[0m\u001b[0mout\u001b[0m\u001b[0;34m)\u001b[0m\u001b[0;34m\u001b[0m\u001b[0;34m\u001b[0m\u001b[0m\n\u001b[0;32m--> 240\u001b[0;31m                 \u001b[0;32mwhile\u001b[0m \u001b[0msum\u001b[0m\u001b[0;34m(\u001b[0m\u001b[0mmap\u001b[0m\u001b[0;34m(\u001b[0m\u001b[0;32mlambda\u001b[0m \u001b[0mt\u001b[0m\u001b[0;34m:\u001b[0m \u001b[0mt\u001b[0m\u001b[0;34m.\u001b[0m\u001b[0mshape\u001b[0m\u001b[0;34m[\u001b[0m\u001b[0;36m1\u001b[0m\u001b[0;34m]\u001b[0m\u001b[0;34m,\u001b[0m \u001b[0mbatch_prediction\u001b[0m\u001b[0;34m)\u001b[0m\u001b[0;34m)\u001b[0m \u001b[0;34m<\u001b[0m \u001b[0mn\u001b[0m\u001b[0;34m:\u001b[0m\u001b[0;34m\u001b[0m\u001b[0;34m\u001b[0m\u001b[0m\n\u001b[0m\u001b[1;32m    241\u001b[0m                     \u001b[0mroll_size\u001b[0m \u001b[0;34m=\u001b[0m \u001b[0mmin\u001b[0m\u001b[0;34m(\u001b[0m\u001b[0mself\u001b[0m\u001b[0;34m.\u001b[0m\u001b[0moutput_chunk_length\u001b[0m\u001b[0;34m,\u001b[0m \u001b[0mself\u001b[0m\u001b[0;34m.\u001b[0m\u001b[0minput_chunk_length\u001b[0m\u001b[0;34m)\u001b[0m\u001b[0;34m\u001b[0m\u001b[0;34m\u001b[0m\u001b[0m\n\u001b[1;32m    242\u001b[0m                     \u001b[0mbatch\u001b[0m \u001b[0;34m=\u001b[0m \u001b[0mtorch\u001b[0m\u001b[0;34m.\u001b[0m\u001b[0mroll\u001b[0m\u001b[0;34m(\u001b[0m\u001b[0mbatch\u001b[0m\u001b[0;34m,\u001b[0m \u001b[0;34m-\u001b[0m\u001b[0mroll_size\u001b[0m\u001b[0;34m,\u001b[0m \u001b[0;36m1\u001b[0m\u001b[0;34m)\u001b[0m\u001b[0;34m\u001b[0m\u001b[0;34m\u001b[0m\u001b[0m\n",
      "\u001b[0;32m~/anaconda3/envs/timeseries_analysis/lib/python3.8/site-packages/pandas/core/generic.py\u001b[0m in \u001b[0;36m__nonzero__\u001b[0;34m(self)\u001b[0m\n\u001b[1;32m   1440\u001b[0m     \u001b[0;34m@\u001b[0m\u001b[0mfinal\u001b[0m\u001b[0;34m\u001b[0m\u001b[0;34m\u001b[0m\u001b[0m\n\u001b[1;32m   1441\u001b[0m     \u001b[0;32mdef\u001b[0m \u001b[0m__nonzero__\u001b[0m\u001b[0;34m(\u001b[0m\u001b[0mself\u001b[0m\u001b[0;34m)\u001b[0m\u001b[0;34m:\u001b[0m\u001b[0;34m\u001b[0m\u001b[0;34m\u001b[0m\u001b[0m\n\u001b[0;32m-> 1442\u001b[0;31m         raise ValueError(\n\u001b[0m\u001b[1;32m   1443\u001b[0m             \u001b[0;34mf\"The truth value of a {type(self).__name__} is ambiguous. \"\u001b[0m\u001b[0;34m\u001b[0m\u001b[0;34m\u001b[0m\u001b[0m\n\u001b[1;32m   1444\u001b[0m             \u001b[0;34m\"Use a.empty, a.bool(), a.item(), a.any() or a.all().\"\u001b[0m\u001b[0;34m\u001b[0m\u001b[0;34m\u001b[0m\u001b[0m\n",
      "\u001b[0;31mValueError\u001b[0m: The truth value of a DataFrame is ambiguous. Use a.empty, a.bool(), a.item(), a.any() or a.all()."
     ]
    }
   ],
   "source": [
    "model_cov.predict(scaler.transform(X_))"
   ]
  },
  {
   "cell_type": "markdown",
   "metadata": {},
   "source": [
    "## Create some maps"
   ]
  },
  {
   "cell_type": "code",
   "execution_count": 137,
   "metadata": {},
   "outputs": [],
   "source": [
    "import click\n",
    "import os\n",
    "import joblib\n",
    "import numpy as np\n",
    "import pandas as pd\n",
    "from collections import defaultdict\n",
    "from copy import deepcopy\n",
    "from darts import TimeSeries\n",
    "\n",
    "from pyprocessta.model.tcn import (\n",
    "    TCNModelDropout,\n",
    "    parallelized_inference,\n",
    "    summarize_results,\n",
    ")\n",
    "\n",
    "THIS_DIR = os.path.abspath('/home/kjablonk/documents/timeseries_analysis/pyprocessta/examples')\n",
    "\n",
    "\n",
    "def load_pickle(filename):\n",
    "    with open(filename, \"rb\") as handle:\n",
    "        res = pickle.load(handle)\n",
    "    return res\n",
    "\n",
    "\n",
    "def dump_pickle(object, filename):\n",
    "    with open(filename, \"wb\") as handle:\n",
    "        pickle.dump(object, handle)\n",
    "\n",
    "\n",
    "MEAS_COLUMNS = [\n",
    "    \"TI-19\",\n",
    "    #      \"FI-16\",\n",
    "    #     \"TI-33\",\n",
    "    #     \"FI-2\",\n",
    "    #     \"FI-151\",\n",
    "    #     \"TI-8\",\n",
    "    #     \"FI-241\",\n",
    "    #  \"valve-position-12\",  # dry-bed\n",
    "    #     \"FI-38\",  # strippera\n",
    "    #     \"PI-28\",  # stripper\n",
    "    #     \"TI-28\",  # stripper\n",
    "    #      \"FI-20\",\n",
    "    #     \"FI-30\",\n",
    "    \"TI-3\",\n",
    "    \"FI-19\",\n",
    "    #     \"FI-211\",\n",
    "    \"FI-11\",\n",
    "    #     \"TI-30\",\n",
    "    #     \"PI-30\",\n",
    "    \"TI-1213\",\n",
    "    #     \"TI-4\",\n",
    "   \"FI-23\",\n",
    "    \"FI-20\",\n",
    "    #\"FI-20/FI-23\",\n",
    "    #    \"TI-22\",\n",
    "   # \"delta_t\",\n",
    "    \"TI-35\",\n",
    "    #\"delta_t_2\",\n",
    "]\n",
    "\n",
    "# First, we train a model on *all* data\n",
    "# Then, we do a partial-denpendency plot approach and change one variable and see how the model predictions change\n",
    "\n",
    "# load the trained model\n",
    "\n",
    "model_cov1 = TCNModelDropout(\n",
    "    input_chunk_length=8,\n",
    "    output_chunk_length=1,\n",
    "    num_layers=5,\n",
    "    num_filters=16,\n",
    "    kernel_size=6,\n",
    "    dropout=0.3,\n",
    "    weight_norm=True,\n",
    "    batch_size=32,\n",
    "    n_epochs=100,\n",
    "    log_tensorboard=True,\n",
    "    optimizer_kwargs={\"lr\": 2e-4},\n",
    ")\n",
    "\n",
    "\n",
    "model_cov2 = TCNModelDropout(\n",
    "    input_chunk_length=8,\n",
    "    output_chunk_length=1,\n",
    "    num_layers=5,\n",
    "    num_filters=16,\n",
    "    kernel_size=6,\n",
    "    dropout=0.3,\n",
    "    weight_norm=True,\n",
    "    batch_size=32,\n",
    "    n_epochs=100,\n",
    "    log_tensorboard=True,\n",
    "    optimizer_kwargs={\"lr\": 2e-4},\n",
    ")\n",
    "\n",
    "\n",
    "FEAT_NUM_MAPPING = dict(zip(MEAS_COLUMNS, [str(i) for i in range(len(MEAS_COLUMNS))]))\n",
    "UPDATE_MAPPING = {\n",
    "    \"amine\": {\n",
    "        \"scaler\": joblib.load(\"20210814_y_transformer__reduced_feature_set\"),\n",
    "        \"model\": model_cov1.load_from_checkpoint(\n",
    "            os.path.join(THIS_DIR, \"20210814_2amp_pip_model_reduced_feature_set_darts\")\n",
    "        ),\n",
    "        \"name\": [\"2-Amino-2-methylpropanol C4H11NO\", \"Piperazine C4H10N2\"],\n",
    "    },\n",
    "    \"co2\": {\n",
    "        \"scaler\": joblib.load(\"20210814_y_transformer_co2_ammonia_reduced_feature_set\"),\n",
    "        \"model\": model_cov2.load_from_checkpoint(\n",
    "            os.path.join(\n",
    "                THIS_DIR, \"20210814_co2_ammonia_model_reduced_feature_set_darts\"\n",
    "            )\n",
    "        ),\n",
    "        \"name\": [\"Carbon dioxide CO2\", \"Ammonia NH3\"],\n",
    "    },\n",
    "}\n",
    "SCALER = joblib.load(\"20210814_x_scaler_reduced_feature_set\")\n",
    "\n",
    "\n",
    "# making the input one item longer as \"safety margin\"\n",
    "def calculate_initialization_percentage(\n",
    "    timeseries_length: int, input_sequence_length: int = 61\n",
    "):\n",
    "    fraction_of_input = input_sequence_length / timeseries_length\n",
    "    res = max([fraction_of_input, 0.1])\n",
    "    return res\n",
    "\n",
    "\n",
    "def run_update(df, x, target=\"amine\"):\n",
    "    model_dict = UPDATE_MAPPING[target]\n",
    "    y = model_dict[\"scaler\"].transform(\n",
    "        TimeSeries.from_dataframe(df, value_cols=model_dict[\"name\"])\n",
    "    )\n",
    "    df = parallelized_inference(\n",
    "        model_dict[\"model\"],\n",
    "        x,\n",
    "        y,\n",
    "        repeats=1,\n",
    "        start=calculate_initialization_percentage(len(y)),\n",
    "        horizon=2,\n",
    "    )\n",
    "    means, stds = summarize_results(df)\n",
    "    return {\"means\": means, \"stds\": stds}\n",
    "\n",
    "\n",
    "def run_targets(df, feature_levels, target: str = \"amine\"):\n",
    "\n",
    "    df = deepcopy(df)\n",
    "\n",
    "    for k, v in feature_levels.items():\n",
    "        if k == \"valve-position-12\":\n",
    "            df[k] = v\n",
    "        else:\n",
    "            df[k] = df[k] + v / 100 * np.abs(df[k])\n",
    "\n",
    "    X_ = TimeSeries.from_dataframe(df, value_cols=MEAS_COLUMNS)\n",
    "    X_ = SCALER.transform(X_)\n",
    "\n",
    "    res = run_update(df, X_, target)\n",
    "    return res\n",
    "\n",
    "\n",
    "def run_grid(\n",
    "    df,\n",
    "    feature_a: str = \"TI-19\",\n",
    "    feature_b: str = \"TI-1213\",\n",
    "    lower: float = -20,\n",
    "    upper: float = 20,\n",
    "    num_points: int = 5,\n",
    "    objectives: str = \"amine\",\n",
    "):\n",
    "    grid = np.linspace(lower, upper, num_points)\n",
    "    results_double_new = defaultdict(dict)\n",
    "\n",
    "    if feature_a == \"valve-position-12\":\n",
    "        grid_a = [0, 1]\n",
    "    else:\n",
    "        grid_a = grid\n",
    "    if feature_b == \"valve-position-12\":\n",
    "        grid_b = [0, 1]\n",
    "    else:\n",
    "        grid_b = grid\n",
    "\n",
    "    for point_a in grid_a:\n",
    "        for point_b in grid_b:\n",
    "            print(f\"Running point {feature_a}: {point_a} {feature_b}: {point_b}\")\n",
    "            results_double_new[point_a][point_b] = run_targets(\n",
    "                df, {feature_a: point_a, feature_b: point_b}, objectives\n",
    "            )\n",
    "    return results_double_new\n"
   ]
  },
  {
   "cell_type": "code",
   "execution_count": 138,
   "metadata": {},
   "outputs": [],
   "source": [
    "import pickle"
   ]
  },
  {
   "cell_type": "code",
   "execution_count": 139,
   "metadata": {},
   "outputs": [
    {
     "name": "stdout",
     "output_type": "stream",
     "text": [
      "Running point TI-19: -20.0 TI-1213: -20.0\n",
      "Running point TI-19: -20.0 TI-1213: -10.0\n",
      "Running point TI-19: -20.0 TI-1213: 0.0\n",
      "Running point TI-19: -20.0 TI-1213: 10.0\n",
      "Running point TI-19: -20.0 TI-1213: 20.0\n",
      "Running point TI-19: -10.0 TI-1213: -20.0\n",
      "Running point TI-19: -10.0 TI-1213: -10.0\n",
      "Running point TI-19: -10.0 TI-1213: 0.0\n",
      "Running point TI-19: -10.0 TI-1213: 10.0\n",
      "Running point TI-19: -10.0 TI-1213: 20.0\n",
      "Running point TI-19: 0.0 TI-1213: -20.0\n",
      "Running point TI-19: 0.0 TI-1213: -10.0\n",
      "Running point TI-19: 0.0 TI-1213: 0.0\n",
      "Running point TI-19: 0.0 TI-1213: 10.0\n",
      "Running point TI-19: 0.0 TI-1213: 20.0\n",
      "Running point TI-19: 10.0 TI-1213: -20.0\n",
      "Running point TI-19: 10.0 TI-1213: -10.0\n",
      "Running point TI-19: 10.0 TI-1213: 0.0\n",
      "Running point TI-19: 10.0 TI-1213: 10.0\n",
      "Running point TI-19: 10.0 TI-1213: 20.0\n",
      "Running point TI-19: 20.0 TI-1213: -20.0\n",
      "Running point TI-19: 20.0 TI-1213: -10.0\n",
      "Running point TI-19: 20.0 TI-1213: 0.0\n",
      "Running point TI-19: 20.0 TI-1213: 10.0\n",
      "Running point TI-19: 20.0 TI-1213: 20.0\n"
     ]
    }
   ],
   "source": [
    "mymap = run_grid(df)"
   ]
  },
  {
   "cell_type": "code",
   "execution_count": 140,
   "metadata": {},
   "outputs": [],
   "source": [
    "def get_grids(d): \n",
    "    outer_keys = sorted(d.keys())\n",
    "    inner_keys = sorted(d[outer_keys[0]].keys())\n",
    "    \n",
    "    return outer_keys, inner_keys\n",
    "def make_image(res, objective=\"1\"): \n",
    "    outer, inner = get_grids(res)\n",
    "\n",
    "    image_m = np.zeros((len(outer), len(inner)))\n",
    "    image_l = np.zeros((len(outer), len(inner)))\n",
    "    image_t = np.zeros((len(outer), len(inner)))\n",
    "\n",
    "    for i, point_x in enumerate(outer):\n",
    "        for j, point_y in enumerate(inner):\n",
    "            image_m[i][j] = np.sum(res[point_x][point_y]['means'][objective].values-res[0][0]['means'][objective].values)\n",
    "    \n",
    "   \n",
    "    return  image_m, outer, inner"
   ]
  },
  {
   "cell_type": "code",
   "execution_count": 141,
   "metadata": {},
   "outputs": [],
   "source": [
    "im, _, _ = make_image(mymap)\n",
    "im2, _, _ = make_image(mymap, objective='0')"
   ]
  },
  {
   "cell_type": "code",
   "execution_count": 142,
   "metadata": {},
   "outputs": [],
   "source": [
    "import matplotlib.pyplot as plt "
   ]
  },
  {
   "cell_type": "code",
   "execution_count": 143,
   "metadata": {},
   "outputs": [
    {
     "data": {
      "text/plain": [
       "<matplotlib.image.AxesImage at 0x7f6ced5c0850>"
      ]
     },
     "execution_count": 143,
     "metadata": {},
     "output_type": "execute_result"
    },
    {
     "data": {
      "image/png": "[encoded data removed]",
      "text/plain": [
       "<Figure size 432x288 with 1 Axes>"
      ]
     },
     "metadata": {
      "needs_background": "light"
     },
     "output_type": "display_data"
    }
   ],
   "source": [
    "plt.imshow(im,cmap='coolwarm')"
   ]
  },
  {
   "cell_type": "code",
   "execution_count": 88,
   "metadata": {},
   "outputs": [
    {
     "data": {
      "text/plain": [
       "<matplotlib.image.AxesImage at 0x7f6ced27c520>"
      ]
     },
     "execution_count": 88,
     "metadata": {},
     "output_type": "execute_result"
    },
    {
     "data": {
      "image/png": "[encoded data removed]",
      "text/plain": [
       "<Figure size 432x288 with 1 Axes>"
      ]
     },
     "metadata": {
      "needs_background": "light"
     },
     "output_type": "display_data"
    }
   ],
   "source": [
    "plt.imshow(im,cmap='coolwarm')"
   ]
  },
  {
   "cell_type": "code",
   "execution_count": 108,
   "metadata": {},
   "outputs": [
    {
     "data": {
      "text/plain": [
       "<matplotlib.image.AxesImage at 0x7f6cf57d5c40>"
      ]
     },
     "execution_count": 108,
     "metadata": {},
     "output_type": "execute_result"
    },
    {
     "data": {
      "image/png": "[encoded data removed]",
      "text/plain": [
       "<Figure size 432x288 with 1 Axes>"
      ]
     },
     "metadata": {
      "needs_background": "light"
     },
     "output_type": "display_data"
    }
   ],
   "source": [
    "plt.imshow(im,cmap='coolwarm')"
   ]
  },
  {
   "cell_type": "code",
   "execution_count": 144,
   "metadata": {},
   "outputs": [
    {
     "data": {
      "text/plain": [
       "<matplotlib.image.AxesImage at 0x7f6cd3d854f0>"
      ]
     },
     "execution_count": 144,
     "metadata": {},
     "output_type": "execute_result"
    },
    {
     "data": {
      "image/png": "[encoded data removed]",
      "text/plain": [
       "<Figure size 432x288 with 1 Axes>"
      ]
     },
     "metadata": {
      "needs_background": "light"
     },
     "output_type": "display_data"
    }
   ],
   "source": [
    "plt.imshow(im2, cmap='coolwarm')"
   ]
  },
  {
   "cell_type": "code",
   "execution_count": 89,
   "metadata": {},
   "outputs": [
    {
     "data": {
      "text/plain": [
       "<matplotlib.image.AxesImage at 0x7f6cf57c2b50>"
      ]
     },
     "execution_count": 89,
     "metadata": {},
     "output_type": "execute_result"
    },
    {
     "data": {
      "image/png": "[encoded data removed]",
      "text/plain": [
       "<Figure size 432x288 with 1 Axes>"
      ]
     },
     "metadata": {
      "needs_background": "light"
     },
     "output_type": "display_data"
    }
   ],
   "source": [
    "plt.imshow(im2, cmap='coolwarm')"
   ]
  },
  {
   "cell_type": "code",
   "execution_count": 109,
   "metadata": {},
   "outputs": [
    {
     "data": {
      "text/plain": [
       "<matplotlib.image.AxesImage at 0x7f6ced359850>"
      ]
     },
     "execution_count": 109,
     "metadata": {},
     "output_type": "execute_result"
    },
    {
     "data": {
      "image/png": "[encoded data removed]",
      "text/plain": [
       "<Figure size 432x288 with 1 Axes>"
      ]
     },
     "metadata": {
      "needs_background": "light"
     },
     "output_type": "display_data"
    }
   ],
   "source": [
    "plt.imshow(im2, cmap='coolwarm')"
   ]
  },
  {
   "cell_type": "code",
   "execution_count": 68,
   "metadata": {},
   "outputs": [],
   "source": [
    "with open('20210811_ti3_ti1212_amine.pkl', 'wb') as handle:\n",
    "    pickle.dump(im, handle)"
   ]
  },
  {
   "cell_type": "code",
   "execution_count": null,
   "metadata": {},
   "outputs": [],
   "source": []
  }
 ],
 "metadata": {
  "kernelspec": {
   "display_name": "Python 3",
   "language": "python",
   "name": "python3"
  },
  "language_info": {
   "codemirror_mode": {
    "name": "ipython",
    "version": 3
   },
   "file_extension": ".py",
   "mimetype": "text/x-python",
   "name": "python",
   "nbconvert_exporter": "python",
   "pygments_lexer": "ipython3",
   "version": "3.8.12"
  }
 },
 "nbformat": 4,
 "nbformat_minor": 4
}
